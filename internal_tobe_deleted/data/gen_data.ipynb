{
 "cells": [
  {
   "cell_type": "code",
   "execution_count": 1,
   "metadata": {},
   "outputs": [],
   "source": [
    "import os\n",
    "\n",
    "import numpy as np\n",
    "from torchvision.datasets.mnist import MNIST\n",
    "from tqdm import tqdm\n",
    "import cv2\n",
    "K = 512\n",
    "import pandas as pd\n",
    "\n",
    "os.makedirs('img', exist_ok=True)"
   ]
  },
  {
   "cell_type": "code",
   "execution_count": 2,
   "metadata": {},
   "outputs": [],
   "source": [
    "mnist = MNIST('.output', download=True, train=True)\n",
    "rnd = np.random.RandomState(12345)\n",
    "tt = rnd.randint(1, 5, (2, len(mnist.targets)))\n",
    "t1 = tt[0]\n",
    "t2 = tt[1] + t1\n",
    "t_s1 = mnist.targets.numpy() + t1\n",
    "t_s2 = mnist.targets.numpy() + t2\n",
    "t2[t_s1>9] = t1[t_s1>9]\n",
    "t1[t_s1>9] = 0\n",
    "t1[t_s2<10] = t2[t_s2<10]\n",
    "e = t_s2>9\n",
    "df = pd.DataFrame(\n",
    "    {\n",
    "        't1': t1,\n",
    "        't2': t2,\n",
    "        'e': e,\n",
    "        'image': [f'data/img/{i}.jpg' for i in range(len(mnist.targets))],\n",
    "    }\n",
    ")"
   ]
  },
  {
   "cell_type": "code",
   "execution_count": 3,
   "metadata": {},
   "outputs": [
    {
     "name": "stderr",
     "output_type": "stream",
     "text": [
      "  0%|          | 0/60000 [00:00<?, ?it/s]"
     ]
    },
    {
     "name": "stderr",
     "output_type": "stream",
     "text": [
      "100%|██████████| 60000/60000 [02:55<00:00, 341.25it/s] \n"
     ]
    }
   ],
   "source": [
    "for idx, img in tqdm(enumerate(mnist.data), total=len(mnist.targets)):\n",
    "    if os.path.exists(f'img/{idx}.jpg'):\n",
    "        continue\n",
    "    img = cv2.cvtColor(img.numpy(), cv2.COLOR_GRAY2RGB)\n",
    "    img = cv2.resize(img, (512, 512))\n",
    "    cv2.imwrite(f'img/{idx}.jpg', img)\n",
    "    "
   ]
  },
  {
   "cell_type": "code",
   "execution_count": 4,
   "metadata": {},
   "outputs": [],
   "source": [
    "df.to_csv('train.csv')"
   ]
  },
  {
   "cell_type": "code",
   "execution_count": null,
   "metadata": {},
   "outputs": [],
   "source": []
  },
  {
   "cell_type": "code",
   "execution_count": 5,
   "metadata": {},
   "outputs": [],
   "source": [
    "mnist = MNIST('.output', download=True, train=False)\n",
    "rnd = np.random.RandomState(12345)\n",
    "tt = rnd.randint(1, 5, (2, len(mnist.targets)))\n",
    "t1 = tt[0]\n",
    "t2 = tt[1] + t1\n",
    "t_s1 = mnist.targets.numpy() + t1\n",
    "t_s2 = mnist.targets.numpy() + t2\n",
    "t2[t_s1>9] = t1[t_s1>9]\n",
    "t1[t_s1>9] = 0\n",
    "t1[t_s2<10] = t2[t_s2<10]\n",
    "e = t_s2>9\n",
    "df = pd.DataFrame(\n",
    "    {\n",
    "        't1': t1,\n",
    "        't2': t2,\n",
    "        'e': e,\n",
    "        'image': [f'data/img/{i}_test.jpg' for i in range(len(mnist.targets))],\n",
    "        'gt': mnist.targets.numpy(),\n",
    "    }\n",
    ")"
   ]
  },
  {
   "cell_type": "code",
   "execution_count": 6,
   "metadata": {},
   "outputs": [
    {
     "name": "stderr",
     "output_type": "stream",
     "text": [
      "100%|██████████| 10000/10000 [00:30<00:00, 328.50it/s]\n"
     ]
    }
   ],
   "source": [
    "for idx, img in tqdm(enumerate(mnist.data), total=len(mnist.targets)):\n",
    "    if os.path.exists(f'img/{idx}_test.jpg'):\n",
    "        continue\n",
    "    img = cv2.cvtColor(img.numpy(), cv2.COLOR_GRAY2RGB)\n",
    "    img = cv2.resize(img, (512, 512))\n",
    "    cv2.imwrite(f'img/{idx}_test.jpg', img)\n",
    "    "
   ]
  },
  {
   "cell_type": "code",
   "execution_count": 7,
   "metadata": {},
   "outputs": [],
   "source": [
    "df.to_csv('test.csv')"
   ]
  }
 ],
 "metadata": {
  "kernelspec": {
   "display_name": "torchenv",
   "language": "python",
   "name": "python3"
  },
  "language_info": {
   "codemirror_mode": {
    "name": "ipython",
    "version": 3
   },
   "file_extension": ".py",
   "mimetype": "text/x-python",
   "name": "python",
   "nbconvert_exporter": "python",
   "pygments_lexer": "ipython3",
   "version": "3.9.13"
  },
  "orig_nbformat": 4
 },
 "nbformat": 4,
 "nbformat_minor": 2
}
